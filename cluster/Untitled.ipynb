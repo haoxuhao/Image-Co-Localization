{
 "cells": [
  {
   "cell_type": "code",
   "execution_count": 4,
   "metadata": {
    "scrolled": true
   },
   "outputs": [
    {
     "data": {
      "image/png": "[encoded data removed]",
      "text/plain": [
       "<Figure size 576x576 with 1 Axes>"
      ]
     },
     "metadata": {},
     "output_type": "display_data"
    },
    {
     "name": "stdout",
     "output_type": "stream",
     "text": [
      "[2 2 2 2 2 2 2 2 2 2 2 2 2 2 2 2 2 2 2 2 2 2 1 1 1 1 1 1 1 1 1 1 1 0 1 0 0\n",
      " 0 0 0 0 0 0 0 0 0 0 0 0 1 1 1 1 1 2 2 2 2 2 2 2 2 2 0 1 1 1]\n"
     ]
    },
    {
     "data": {
      "image/png": "[encoded data removed]",
      "text/plain": [
       "<Figure size 576x576 with 1 Axes>"
      ]
     },
     "metadata": {},
     "output_type": "display_data"
    },
    {
     "name": "stdout",
     "output_type": "stream",
     "text": [
      "[[ 0.71622694 -0.69786744]\n",
      " [ 0.69005645  0.72375555]\n",
      " [-0.99231829 -0.12371104]]\n",
      "[0 0 0 0 0 0 0 0 0 0 0 0 0 0 0 0 0 0 0 0 0 0 1 1 1 1 1 1 1 1 1 1 1 1 1 2 2\n",
      " 2 2 2 2 2 2 2 2 2 2 2 2 1 1 1 1 1 0 0 0 0 0 0 0 0 0 2 1 1 1]\n"
     ]
    },
    {
     "data": {
      "text/plain": [
       "array([False, False, False, False, False, False, False, False, False,\n",
       "       False, False, False, False, False, False, False, False, False,\n",
       "       False, False, False, False,  True,  True,  True,  True,  True,\n",
       "        True,  True,  True,  True,  True,  True, False,  True, False,\n",
       "       False, False, False, False, False, False, False, False, False,\n",
       "       False, False, False, False,  True,  True,  True,  True,  True,\n",
       "       False, False, False, False, False, False, False, False, False,\n",
       "       False,  True,  True,  True])"
      ]
     },
     "execution_count": 4,
     "metadata": {},
     "output_type": "execute_result"
    }
   ],
   "source": [
    "#encoding=utf-8\n",
    "\n",
    "import numpy as np\n",
    "from Bio.Cluster import *\n",
    "from numpy import linalg as LA\n",
    "import mpl_toolkits.axisartist as axisartist\n",
    "import matplotlib.pyplot as plt\n",
    "from sklearn.preprocessing import normalize\n",
    "from spherecluster import SphericalKMeans\n",
    "\n",
    "\n",
    "class SphereCluster(object):\n",
    "    def __init__(self, num_cluster=3):\n",
    "        self.name = \"SphereCluster\"\n",
    "        self.ncluster=num_cluster\n",
    "        self.clusters = []\n",
    "        self.main_id = 0\n",
    "        self.mean = None\n",
    "    \n",
    "    def l2norm(self, data, axies=0, mean=None):\n",
    "        process_data = normalize(data, norm=\"l2\")\n",
    "        return process_data\n",
    "\n",
    "    def fit(self, data, norm=False, mean=None):\n",
    "        '''\n",
    "        Args:\n",
    "            data numpy.ndarray: [m, n] m samples every sample with n dimention\n",
    "            norm boolean: False as default, \n",
    "        '''\n",
    "        if not norm:\n",
    "            self.mean = np.mean(data, axis=0)\n",
    "            process_data = self.l2norm(data-self.mean)\n",
    "        else:\n",
    "            process_data = data\n",
    "            self.mean = mean\n",
    "\n",
    "        clusterid, error, nfound = kcluster(process_data, nclusters=self.ncluster, dist=\"u\")\n",
    "\n",
    "        result = {}\n",
    "        scores = []\n",
    "        print(clusterid)\n",
    "        self.clusters = []\n",
    "        for i in range(self.ncluster):\n",
    "            label = np.where(clusterid==i)[0].tolist()\n",
    "            cluster_data = process_data[label,:]\n",
    "            cluster = np.mean(cluster_data, axis=0)\n",
    "            cluster = normalize(cluster.reshape(1,cluster.shape[0]), norm='l2')\n",
    "            result[i]=cluster\n",
    "            self.clusters.append(cluster)\n",
    "\n",
    "            score = np.mean(np.dot(cluster_data, cluster.T))\n",
    "            scores.append(score)\n",
    "        \n",
    "        self.clusters = np.vstack(self.clusters)\n",
    "        self.main_id = np.argmax(scores)\n",
    "\n",
    "        return result, clusterid, self.main_id\n",
    "\n",
    "    def predict(self, data):\n",
    "        '''\n",
    "        Args:\n",
    "            data numpy.ndarray: shape [n, c, h, w]\n",
    "        return:\n",
    "            labeled numpy.ndarray: shape [n, 1, h, w]\n",
    "        '''\n",
    "        #reshape [n,c,h,w]->[n*h*w, c]\n",
    "        n, c, h, w = data.shape\n",
    "        process_data = data.transpose(1,0,2,3)\n",
    "        process_data = process_data.reshape(-1, process_data.shape[0])\n",
    "        process_data -= self.mean\n",
    "        process_data = self.l2norm(process_data)\n",
    "\n",
    "        #label all vectors\n",
    "        dist_matrix = np.dot(process_data,self.clusters.T)\n",
    "        labeled = np.argmax(dist_matrix, axis=1)\n",
    "\n",
    "        # reshape to origin [n*h*w, c]->[n, h, w]\n",
    "        labeled = labeled.reshape(n, h, w)\n",
    "\n",
    "        return labeled\n",
    "\n",
    "def draw_xys(points):\n",
    "    \n",
    "    #创建画布\n",
    "    fig = plt.figure(figsize=(8, 8))\n",
    "    #使用axisartist.Subplot方法创建一个绘图区对象ax\n",
    "    ax = axisartist.Subplot(fig, 111)  \n",
    "    #将绘图区对象添加到画布中\n",
    "    fig.add_axes(ax)\n",
    "\n",
    "    #通过set_visible方法设置绘图区所有坐标轴隐藏\n",
    "    ax.axis[:].set_visible(False)\n",
    "\n",
    "    #ax.new_floating_axis代表添加新的坐标轴\n",
    "    ax.axis[\"x\"] = ax.new_floating_axis(0,0)\n",
    "    #给x坐标轴加上箭头\n",
    "    ax.axis[\"x\"].set_axisline_style(\"->\", size = 1.0)\n",
    "    #添加y坐标轴，且加上箭头\n",
    "    ax.axis[\"y\"] = ax.new_floating_axis(1,0)\n",
    "    ax.axis[\"y\"].set_axisline_style(\"-|>\", size = 1.0)\n",
    "    #设置x、y轴上刻度显示方向\n",
    "    ax.axis[\"x\"].set_axis_direction(\"top\")\n",
    "    ax.axis[\"y\"].set_axis_direction(\"right\")\n",
    "    #生成x步长为0.1的列表数据\n",
    "    x = np.arange(-15,15,2)\n",
    "    #生成sigmiod形式的y数据\n",
    "    y=1/(1+np.exp(-x))\n",
    "    #设置x、y坐标轴的范围\n",
    "    plt.xlim(-2,2)\n",
    "    plt.ylim(-2, 2)\n",
    "    #绘制图形\n",
    "\n",
    "    plt.scatter(points[:,0],points[:,1],c='b')\n",
    "    plt.show()\n",
    "\n",
    "\n",
    "# data = np.array(range(2*512*4*4),dtype=np.float32)\n",
    "# data = data.reshape(2,512,4,4)\n",
    "\n",
    "\n",
    "data = np.load(\"./data/points.npy\")\n",
    "mean = np.mean(data,axis=0)\n",
    "centered = data-mean\n",
    "norm_data = normalize(centered, norm='l2')\n",
    "\n",
    "draw_xys(norm_data)\n",
    "\n",
    "\n",
    "SC = SphereCluster()\n",
    "# flatend_data = data.transpose(1,0,2,3)\n",
    "# flatend_data = flatend_data.reshape(-1, flatend_data.shape[0])\n",
    "\n",
    "result, clusterid,_ = SC.fit(norm_data, norm=True, mean=mean)\n",
    "\n",
    "clusters = SC.clusters\n",
    "\n",
    "clusters\n",
    "\n",
    "draw_xys(clusters)\n",
    "\n",
    "skm = SphericalKMeans(n_clusters=3)\n",
    "skm.fit(norm_data)\n",
    "clusters_bio=skm.cluster_centers_\n",
    "print(clusters)\n",
    "print(skm.labels_)\n",
    "\n",
    "clusterid == skm.labels_\n",
    "# SC.predict(data)\n"
   ]
  },
  {
   "cell_type": "code",
   "execution_count": 4,
   "metadata": {},
   "outputs": [
    {
     "data": {
      "text/plain": [
       "array([[ 1.42479803e-02, -5.65448255e-05, -9.73175703e-05, ...,\n",
       "        -1.21167030e-05,  0.00000000e+00, -2.66988219e-03],\n",
       "       [-5.65448255e-05,  1.98167550e-03,  3.74501141e-04, ...,\n",
       "        -6.99277482e-06,  0.00000000e+00, -1.54083870e-03],\n",
       "       [-9.73175703e-05,  3.74501141e-04,  5.41351188e-03, ...,\n",
       "        -1.20350509e-05,  0.00000000e+00, -2.65189038e-03],\n",
       "       ...,\n",
       "       [-1.21167030e-05, -6.99277482e-06, -1.20350509e-05, ...,\n",
       "         2.54810361e-04,  0.00000000e+00, -3.30178487e-04],\n",
       "       [ 0.00000000e+00,  0.00000000e+00,  0.00000000e+00, ...,\n",
       "         0.00000000e+00,  0.00000000e+00,  0.00000000e+00],\n",
       "       [-2.66988219e-03, -1.54083870e-03, -2.65189038e-03, ...,\n",
       "        -3.30178487e-04,  0.00000000e+00,  7.43142237e-01]])"
      ]
     },
     "execution_count": 4,
     "metadata": {},
     "output_type": "execute_result"
    }
   ],
   "source": [
    "import numpy as np\n",
    "co_var_matrix=np.load(\"./data/co_var_matrix.npy\")\n",
    "co_var_matrix\n"
   ]
  },
  {
   "cell_type": "code",
   "execution_count": 19,
   "metadata": {},
   "outputs": [
    {
     "name": "stdout",
     "output_type": "stream",
     "text": [
      "[[ 0.71585712  0.69824679]\n",
      " [-0.99231829 -0.12371104]\n",
      " [ 0.68179722 -0.73154122]]\n",
      "[1 1 1 1 1 1 1 1 1 1 1 1 1 1 1 1 1 1 1 1 1 1 0 0 0 0 0 0 0 0 0 0 0 0 0 2 2\n",
      " 2 2 2 2 2 2 2 2 2 2 2 2 0 0 0 0 0 1 1 1 1 1 1 1 1 1 2 0 0 0]\n",
      "17.08649031756409\n"
     ]
    }
   ],
   "source": [
    "from spherecluster import SphericalKMeans\n",
    "from sklearn.preprocessing import normalize\n",
    "import numpy as np\n",
    "import mpl_toolkits.axisartist as axisartist\n",
    "import matplotlib.pyplot as plt\n",
    "\n",
    "def draw_xys(points):\n",
    "    \n",
    "    #创建画布\n",
    "    fig = plt.figure(figsize=(8, 8))\n",
    "    #使用axisartist.Subplot方法创建一个绘图区对象ax\n",
    "    ax = axisartist.Subplot(fig, 111)  \n",
    "    #将绘图区对象添加到画布中\n",
    "    fig.add_axes(ax)\n",
    "\n",
    "    #通过set_visible方法设置绘图区所有坐标轴隐藏\n",
    "    ax.axis[:].set_visible(False)\n",
    "\n",
    "    #ax.new_floating_axis代表添加新的坐标轴\n",
    "    ax.axis[\"x\"] = ax.new_floating_axis(0,0)\n",
    "    #给x坐标轴加上箭头\n",
    "    ax.axis[\"x\"].set_axisline_style(\"->\", size = 1.0)\n",
    "    #添加y坐标轴，且加上箭头\n",
    "    ax.axis[\"y\"] = ax.new_floating_axis(1,0)\n",
    "    ax.axis[\"y\"].set_axisline_style(\"-|>\", size = 1.0)\n",
    "    #设置x、y轴上刻度显示方向\n",
    "    ax.axis[\"x\"].set_axis_direction(\"top\")\n",
    "    ax.axis[\"y\"].set_axis_direction(\"right\")\n",
    "    #生成x步长为0.1的列表数据\n",
    "    x = np.arange(-15,15,2)\n",
    "    #生成sigmiod形式的y数据\n",
    "    y=1/(1+np.exp(-x))\n",
    "    #设置x、y坐标轴的范围\n",
    "    plt.xlim(-2,2)\n",
    "    plt.ylim(-2, 2)\n",
    "    #绘制图形\n",
    "\n",
    "    plt.scatter(points[:,0],points[:,1],c='b')\n",
    "    plt.show()\n",
    "    \n",
    "data = np.load(\"./data/points.npy\")\n",
    "centered = data-np.mean(data,axis=0)\n",
    "norm_data = normalize(centered, norm='l2')\n",
    "\n",
    "skm = SphericalKMeans(n_clusters=3)\n",
    "skm.fit(norm_data)\n",
    "clusters=skm.cluster_centers_\n",
    "print(clusters)\n",
    "print(skm.labels_)\n",
    "print(skm.inertia_)\n",
    "\n",
    "labels_bio = np.array([])\n",
    "#draw_xys(clusters)"
   ]
  },
  {
   "cell_type": "code",
   "execution_count": 20,
   "metadata": {},
   "outputs": [
    {
     "data": {
      "text/plain": [
       "array([[ 0.71585712,  0.69824679],\n",
       "       [-0.99231829, -0.12371104],\n",
       "       [ 0.68179722, -0.73154122]])"
      ]
     },
     "execution_count": 20,
     "metadata": {},
     "output_type": "execute_result"
    }
   ],
   "source": [
    "clusters\n"
   ]
  },
  {
   "cell_type": "code",
   "execution_count": 21,
   "metadata": {},
   "outputs": [],
   "source": [
    "dist_matrix = np.argmax(np.dot(norm_data, clusters.T),axis=1)"
   ]
  },
  {
   "cell_type": "code",
   "execution_count": 22,
   "metadata": {},
   "outputs": [
    {
     "data": {
      "text/plain": [
       "array([1, 1, 1, 1, 1, 1, 1, 1, 1, 1, 1, 1, 1, 1, 1, 1, 1, 1, 1, 1, 1, 1,\n",
       "       0, 0, 0, 0, 0, 0, 0, 0, 0, 0, 0, 0, 0, 2, 2, 2, 2, 2, 2, 2, 2, 2,\n",
       "       2, 2, 2, 2, 2, 0, 0, 0, 0, 0, 1, 1, 1, 1, 1, 1, 1, 1, 1, 2, 0, 0,\n",
       "       0])"
      ]
     },
     "execution_count": 22,
     "metadata": {},
     "output_type": "execute_result"
    }
   ],
   "source": [
    "dist_matrix"
   ]
  },
  {
   "cell_type": "code",
   "execution_count": 3,
   "metadata": {},
   "outputs": [
    {
     "ename": "NameError",
     "evalue": "name 'dist_matrix' is not defined",
     "output_type": "error",
     "traceback": [
      "\u001b[0;31m---------------------------------------------------------------------------\u001b[0m",
      "\u001b[0;31mNameError\u001b[0m                                 Traceback (most recent call last)",
      "\u001b[0;32m<ipython-input-3-f6a4a1c01e3d>\u001b[0m in \u001b[0;36m<module>\u001b[0;34m()\u001b[0m\n\u001b[0;32m----> 1\u001b[0;31m \u001b[0mdist_matrix\u001b[0m\u001b[0;34m==\u001b[0m\u001b[0mskm\u001b[0m\u001b[0;34m.\u001b[0m\u001b[0mlabels_\u001b[0m\u001b[0;34m\u001b[0m\u001b[0m\n\u001b[0m\u001b[1;32m      2\u001b[0m \u001b[0mdraw_xys\u001b[0m\u001b[0;34m(\u001b[0m\u001b[0mclusters\u001b[0m\u001b[0;34m)\u001b[0m\u001b[0;34m\u001b[0m\u001b[0m\n\u001b[1;32m      3\u001b[0m \u001b[0mdraw_xys\u001b[0m\u001b[0;34m(\u001b[0m\u001b[0mnorm_data\u001b[0m\u001b[0;34m)\u001b[0m\u001b[0;34m\u001b[0m\u001b[0m\n",
      "\u001b[0;31mNameError\u001b[0m: name 'dist_matrix' is not defined"
     ]
    }
   ],
   "source": [
    "dist_matrix==skm.labels_\n",
    "draw_xys(clusters)\n",
    "draw_xys(norm_data)"
   ]
  }
 ],
 "metadata": {
  "kernelspec": {
   "display_name": "Python 3",
   "language": "python",
   "name": "python3"
  },
  "language_info": {
   "codemirror_mode": {
    "name": "ipython",
    "version": 3
   },
   "file_extension": ".py",
   "mimetype": "text/x-python",
   "name": "python",
   "nbconvert_exporter": "python",
   "pygments_lexer": "ipython3",
   "version": "3.6.4"
  }
 },
 "nbformat": 4,
 "nbformat_minor": 2
}
